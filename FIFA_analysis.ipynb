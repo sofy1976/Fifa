{
 "cells": [
  {
   "cell_type": "markdown",
   "id": "49870e4b",
   "metadata": {},
   "source": [
    "# Fifa19 Exercise - Solutions\n",
    "\n",
    "Welcome to a quick exercise for you to practice your pandas skills! We will be using the [Fifa19 Dataset](https://www.kaggle.com/winterbreeze/fifa19eda) from Kaggle! Just follow along and complete the tasks outlined in bold below. The tasks will get harder and harder as you go along."
   ]
  },
  {
   "cell_type": "code",
   "execution_count": 3,
   "id": "0401ba8c",
   "metadata": {},
   "outputs": [],
   "source": [
    "import pandas as pd\n",
    "import numpy as np"
   ]
  },
  {
   "cell_type": "code",
   "execution_count": 4,
   "id": "85491fb2",
   "metadata": {},
   "outputs": [
    {
     "data": {
      "text/html": [
       "<div>\n",
       "<style scoped>\n",
       "    .dataframe tbody tr th:only-of-type {\n",
       "        vertical-align: middle;\n",
       "    }\n",
       "\n",
       "    .dataframe tbody tr th {\n",
       "        vertical-align: top;\n",
       "    }\n",
       "\n",
       "    .dataframe thead th {\n",
       "        text-align: right;\n",
       "    }\n",
       "</style>\n",
       "<table border=\"1\" class=\"dataframe\">\n",
       "  <thead>\n",
       "    <tr style=\"text-align: right;\">\n",
       "      <th></th>\n",
       "      <th>ID</th>\n",
       "      <th>Name</th>\n",
       "      <th>Age</th>\n",
       "      <th>Nationality</th>\n",
       "      <th>Overall</th>\n",
       "      <th>Potential</th>\n",
       "      <th>Club</th>\n",
       "      <th>Value</th>\n",
       "      <th>Wage</th>\n",
       "      <th>Preferred Foot</th>\n",
       "      <th>International Reputation</th>\n",
       "      <th>Skill Moves</th>\n",
       "      <th>Position</th>\n",
       "      <th>Joined</th>\n",
       "      <th>Contract Valid Until</th>\n",
       "      <th>Height</th>\n",
       "      <th>Weight</th>\n",
       "      <th>Release Clause</th>\n",
       "    </tr>\n",
       "  </thead>\n",
       "  <tbody>\n",
       "    <tr>\n",
       "      <th>0</th>\n",
       "      <td>158023</td>\n",
       "      <td>L. Messi</td>\n",
       "      <td>31</td>\n",
       "      <td>Argentina</td>\n",
       "      <td>94</td>\n",
       "      <td>94</td>\n",
       "      <td>FC Barcelona</td>\n",
       "      <td>110500.0</td>\n",
       "      <td>565.0</td>\n",
       "      <td>Left</td>\n",
       "      <td>5.0</td>\n",
       "      <td>4.0</td>\n",
       "      <td>RF</td>\n",
       "      <td>2004</td>\n",
       "      <td>2021-01-01</td>\n",
       "      <td>5.583333</td>\n",
       "      <td>159.0</td>\n",
       "      <td>226500.0</td>\n",
       "    </tr>\n",
       "    <tr>\n",
       "      <th>1</th>\n",
       "      <td>20801</td>\n",
       "      <td>Cristiano Ronaldo</td>\n",
       "      <td>33</td>\n",
       "      <td>Portugal</td>\n",
       "      <td>94</td>\n",
       "      <td>94</td>\n",
       "      <td>Juventus</td>\n",
       "      <td>77000.0</td>\n",
       "      <td>405.0</td>\n",
       "      <td>Right</td>\n",
       "      <td>5.0</td>\n",
       "      <td>5.0</td>\n",
       "      <td>ST</td>\n",
       "      <td>2018</td>\n",
       "      <td>2022-01-01</td>\n",
       "      <td>6.166667</td>\n",
       "      <td>183.0</td>\n",
       "      <td>127100.0</td>\n",
       "    </tr>\n",
       "    <tr>\n",
       "      <th>2</th>\n",
       "      <td>190871</td>\n",
       "      <td>Neymar Jr</td>\n",
       "      <td>26</td>\n",
       "      <td>Brazil</td>\n",
       "      <td>92</td>\n",
       "      <td>93</td>\n",
       "      <td>Paris Saint-Germain</td>\n",
       "      <td>118500.0</td>\n",
       "      <td>290.0</td>\n",
       "      <td>Right</td>\n",
       "      <td>5.0</td>\n",
       "      <td>5.0</td>\n",
       "      <td>LW</td>\n",
       "      <td>2017</td>\n",
       "      <td>2022-01-01</td>\n",
       "      <td>5.750000</td>\n",
       "      <td>150.0</td>\n",
       "      <td>228100.0</td>\n",
       "    </tr>\n",
       "    <tr>\n",
       "      <th>3</th>\n",
       "      <td>193080</td>\n",
       "      <td>De Gea</td>\n",
       "      <td>27</td>\n",
       "      <td>Spain</td>\n",
       "      <td>91</td>\n",
       "      <td>93</td>\n",
       "      <td>Manchester United</td>\n",
       "      <td>72000.0</td>\n",
       "      <td>260.0</td>\n",
       "      <td>Right</td>\n",
       "      <td>4.0</td>\n",
       "      <td>1.0</td>\n",
       "      <td>GK</td>\n",
       "      <td>2011</td>\n",
       "      <td>2020-01-01</td>\n",
       "      <td>6.333333</td>\n",
       "      <td>168.0</td>\n",
       "      <td>138600.0</td>\n",
       "    </tr>\n",
       "    <tr>\n",
       "      <th>4</th>\n",
       "      <td>192985</td>\n",
       "      <td>K. De Bruyne</td>\n",
       "      <td>27</td>\n",
       "      <td>Belgium</td>\n",
       "      <td>91</td>\n",
       "      <td>92</td>\n",
       "      <td>Manchester City</td>\n",
       "      <td>102000.0</td>\n",
       "      <td>355.0</td>\n",
       "      <td>Right</td>\n",
       "      <td>4.0</td>\n",
       "      <td>4.0</td>\n",
       "      <td>RCM</td>\n",
       "      <td>2015</td>\n",
       "      <td>2023-01-01</td>\n",
       "      <td>5.916667</td>\n",
       "      <td>154.0</td>\n",
       "      <td>196400.0</td>\n",
       "    </tr>\n",
       "    <tr>\n",
       "      <th>...</th>\n",
       "      <td>...</td>\n",
       "      <td>...</td>\n",
       "      <td>...</td>\n",
       "      <td>...</td>\n",
       "      <td>...</td>\n",
       "      <td>...</td>\n",
       "      <td>...</td>\n",
       "      <td>...</td>\n",
       "      <td>...</td>\n",
       "      <td>...</td>\n",
       "      <td>...</td>\n",
       "      <td>...</td>\n",
       "      <td>...</td>\n",
       "      <td>...</td>\n",
       "      <td>...</td>\n",
       "      <td>...</td>\n",
       "      <td>...</td>\n",
       "      <td>...</td>\n",
       "    </tr>\n",
       "    <tr>\n",
       "      <th>18202</th>\n",
       "      <td>238813</td>\n",
       "      <td>J. Lundstram</td>\n",
       "      <td>19</td>\n",
       "      <td>England</td>\n",
       "      <td>47</td>\n",
       "      <td>65</td>\n",
       "      <td>Crewe Alexandra</td>\n",
       "      <td>60.0</td>\n",
       "      <td>1.0</td>\n",
       "      <td>Right</td>\n",
       "      <td>1.0</td>\n",
       "      <td>2.0</td>\n",
       "      <td>CM</td>\n",
       "      <td>2017</td>\n",
       "      <td>2019-01-01</td>\n",
       "      <td>5.750000</td>\n",
       "      <td>134.0</td>\n",
       "      <td>143.0</td>\n",
       "    </tr>\n",
       "    <tr>\n",
       "      <th>18203</th>\n",
       "      <td>243165</td>\n",
       "      <td>N. Christoffersson</td>\n",
       "      <td>19</td>\n",
       "      <td>Sweden</td>\n",
       "      <td>47</td>\n",
       "      <td>63</td>\n",
       "      <td>Trelleborgs FF</td>\n",
       "      <td>60.0</td>\n",
       "      <td>1.0</td>\n",
       "      <td>Right</td>\n",
       "      <td>1.0</td>\n",
       "      <td>2.0</td>\n",
       "      <td>ST</td>\n",
       "      <td>2018</td>\n",
       "      <td>2020-01-01</td>\n",
       "      <td>6.250000</td>\n",
       "      <td>170.0</td>\n",
       "      <td>113.0</td>\n",
       "    </tr>\n",
       "    <tr>\n",
       "      <th>18204</th>\n",
       "      <td>241638</td>\n",
       "      <td>B. Worman</td>\n",
       "      <td>16</td>\n",
       "      <td>England</td>\n",
       "      <td>47</td>\n",
       "      <td>67</td>\n",
       "      <td>Cambridge United</td>\n",
       "      <td>60.0</td>\n",
       "      <td>1.0</td>\n",
       "      <td>Right</td>\n",
       "      <td>1.0</td>\n",
       "      <td>2.0</td>\n",
       "      <td>ST</td>\n",
       "      <td>2017</td>\n",
       "      <td>2021-01-01</td>\n",
       "      <td>5.666667</td>\n",
       "      <td>148.0</td>\n",
       "      <td>165.0</td>\n",
       "    </tr>\n",
       "    <tr>\n",
       "      <th>18205</th>\n",
       "      <td>246268</td>\n",
       "      <td>D. Walker-Rice</td>\n",
       "      <td>17</td>\n",
       "      <td>England</td>\n",
       "      <td>47</td>\n",
       "      <td>66</td>\n",
       "      <td>Tranmere Rovers</td>\n",
       "      <td>60.0</td>\n",
       "      <td>1.0</td>\n",
       "      <td>Right</td>\n",
       "      <td>1.0</td>\n",
       "      <td>2.0</td>\n",
       "      <td>RW</td>\n",
       "      <td>2018</td>\n",
       "      <td>2019-01-01</td>\n",
       "      <td>5.833333</td>\n",
       "      <td>154.0</td>\n",
       "      <td>143.0</td>\n",
       "    </tr>\n",
       "    <tr>\n",
       "      <th>18206</th>\n",
       "      <td>246269</td>\n",
       "      <td>G. Nugent</td>\n",
       "      <td>16</td>\n",
       "      <td>England</td>\n",
       "      <td>46</td>\n",
       "      <td>66</td>\n",
       "      <td>Tranmere Rovers</td>\n",
       "      <td>60.0</td>\n",
       "      <td>1.0</td>\n",
       "      <td>Right</td>\n",
       "      <td>1.0</td>\n",
       "      <td>2.0</td>\n",
       "      <td>CM</td>\n",
       "      <td>2018</td>\n",
       "      <td>2019-01-01</td>\n",
       "      <td>5.833333</td>\n",
       "      <td>176.0</td>\n",
       "      <td>165.0</td>\n",
       "    </tr>\n",
       "  </tbody>\n",
       "</table>\n",
       "<p>18207 rows × 18 columns</p>\n",
       "</div>"
      ],
      "text/plain": [
       "           ID                Name  Age Nationality  Overall  Potential  \\\n",
       "0      158023            L. Messi   31   Argentina       94         94   \n",
       "1       20801   Cristiano Ronaldo   33    Portugal       94         94   \n",
       "2      190871           Neymar Jr   26      Brazil       92         93   \n",
       "3      193080              De Gea   27       Spain       91         93   \n",
       "4      192985        K. De Bruyne   27     Belgium       91         92   \n",
       "...       ...                 ...  ...         ...      ...        ...   \n",
       "18202  238813        J. Lundstram   19     England       47         65   \n",
       "18203  243165  N. Christoffersson   19      Sweden       47         63   \n",
       "18204  241638           B. Worman   16     England       47         67   \n",
       "18205  246268      D. Walker-Rice   17     England       47         66   \n",
       "18206  246269           G. Nugent   16     England       46         66   \n",
       "\n",
       "                      Club     Value   Wage Preferred Foot  \\\n",
       "0             FC Barcelona  110500.0  565.0           Left   \n",
       "1                 Juventus   77000.0  405.0          Right   \n",
       "2      Paris Saint-Germain  118500.0  290.0          Right   \n",
       "3        Manchester United   72000.0  260.0          Right   \n",
       "4          Manchester City  102000.0  355.0          Right   \n",
       "...                    ...       ...    ...            ...   \n",
       "18202      Crewe Alexandra      60.0    1.0          Right   \n",
       "18203       Trelleborgs FF      60.0    1.0          Right   \n",
       "18204     Cambridge United      60.0    1.0          Right   \n",
       "18205      Tranmere Rovers      60.0    1.0          Right   \n",
       "18206      Tranmere Rovers      60.0    1.0          Right   \n",
       "\n",
       "       International Reputation  Skill Moves Position  Joined  \\\n",
       "0                           5.0          4.0       RF    2004   \n",
       "1                           5.0          5.0       ST    2018   \n",
       "2                           5.0          5.0       LW    2017   \n",
       "3                           4.0          1.0       GK    2011   \n",
       "4                           4.0          4.0      RCM    2015   \n",
       "...                         ...          ...      ...     ...   \n",
       "18202                       1.0          2.0       CM    2017   \n",
       "18203                       1.0          2.0       ST    2018   \n",
       "18204                       1.0          2.0       ST    2017   \n",
       "18205                       1.0          2.0       RW    2018   \n",
       "18206                       1.0          2.0       CM    2018   \n",
       "\n",
       "      Contract Valid Until    Height  Weight  Release Clause  \n",
       "0               2021-01-01  5.583333   159.0        226500.0  \n",
       "1               2022-01-01  6.166667   183.0        127100.0  \n",
       "2               2022-01-01  5.750000   150.0        228100.0  \n",
       "3               2020-01-01  6.333333   168.0        138600.0  \n",
       "4               2023-01-01  5.916667   154.0        196400.0  \n",
       "...                    ...       ...     ...             ...  \n",
       "18202           2019-01-01  5.750000   134.0           143.0  \n",
       "18203           2020-01-01  6.250000   170.0           113.0  \n",
       "18204           2021-01-01  5.666667   148.0           165.0  \n",
       "18205           2019-01-01  5.833333   154.0           143.0  \n",
       "18206           2019-01-01  5.833333   176.0           165.0  \n",
       "\n",
       "[18207 rows x 18 columns]"
      ]
     },
     "execution_count": 4,
     "metadata": {},
     "output_type": "execute_result"
    }
   ],
   "source": [
    "df=pd.read_csv('fifa_eda.csv')\n",
    "df"
   ]
  },
  {
   "cell_type": "code",
   "execution_count": 10,
   "id": "570df98b",
   "metadata": {},
   "outputs": [
    {
     "name": "stdout",
     "output_type": "stream",
     "text": [
      "<class 'pandas.core.frame.DataFrame'>\n",
      "RangeIndex: 18207 entries, 0 to 18206\n",
      "Data columns (total 18 columns):\n",
      " #   Column                    Non-Null Count  Dtype         \n",
      "---  ------                    --------------  -----         \n",
      " 0   ID                        18207 non-null  int64         \n",
      " 1   Name                      18207 non-null  object        \n",
      " 2   Age                       18207 non-null  int64         \n",
      " 3   Nationality               18207 non-null  object        \n",
      " 4   Overall                   18207 non-null  int64         \n",
      " 5   Potential                 18207 non-null  int64         \n",
      " 6   Club                      17966 non-null  object        \n",
      " 7   Value                     17955 non-null  float64       \n",
      " 8   Wage                      18207 non-null  float64       \n",
      " 9   Preferred Foot            18207 non-null  object        \n",
      " 10  International Reputation  18159 non-null  float64       \n",
      " 11  Skill Moves               18159 non-null  float64       \n",
      " 12  Position                  18207 non-null  object        \n",
      " 13  Joined                    18207 non-null  int64         \n",
      " 14  Contract Valid Until      17918 non-null  datetime64[ns]\n",
      " 15  Height                    18207 non-null  float64       \n",
      " 16  Weight                    18207 non-null  float64       \n",
      " 17  Release Clause            18207 non-null  float64       \n",
      "dtypes: datetime64[ns](1), float64(7), int64(5), object(5)\n",
      "memory usage: 2.5+ MB\n"
     ]
    }
   ],
   "source": [
    "df.info()"
   ]
  },
  {
   "cell_type": "code",
   "execution_count": 7,
   "id": "6566a1ca",
   "metadata": {},
   "outputs": [
    {
     "data": {
      "text/plain": [
       "Index(['ID', 'Name', 'Age', 'Nationality', 'Overall', 'Potential', 'Club',\n",
       "       'Value', 'Wage', 'Preferred Foot', 'International Reputation',\n",
       "       'Skill Moves', 'Position', 'Joined', 'Contract Valid Until', 'Height',\n",
       "       'Weight', 'Release Clause'],\n",
       "      dtype='object')"
      ]
     },
     "execution_count": 7,
     "metadata": {},
     "output_type": "execute_result"
    }
   ],
   "source": [
    "df.columns"
   ]
  },
  {
   "cell_type": "code",
   "execution_count": 9,
   "id": "c3834b91",
   "metadata": {},
   "outputs": [],
   "source": [
    "df['Contract Valid Until']=pd.to_datetime(df['Contract Valid Until'],format='%Y-%m-%d')\n"
   ]
  },
  {
   "cell_type": "markdown",
   "id": "5e73e057",
   "metadata": {},
   "source": [
    "**What is the mean & median Age ?**"
   ]
  },
  {
   "cell_type": "code",
   "execution_count": 14,
   "id": "3d4399ee",
   "metadata": {},
   "outputs": [
    {
     "data": {
      "text/plain": [
       "count    18207.000000\n",
       "mean        25.122206\n",
       "std          4.669943\n",
       "min         16.000000\n",
       "25%         21.000000\n",
       "50%         25.000000\n",
       "75%         28.000000\n",
       "max         45.000000\n",
       "Name: Age, dtype: float64"
      ]
     },
     "execution_count": 14,
     "metadata": {},
     "output_type": "execute_result"
    }
   ],
   "source": [
    "df['Age'].describe()"
   ]
  },
  {
   "cell_type": "markdown",
   "id": "a1221582",
   "metadata": {},
   "source": [
    "**What is the greatest Height? and name of the player with that height?**"
   ]
  },
  {
   "cell_type": "code",
   "execution_count": 19,
   "id": "ec8bd03a",
   "metadata": {},
   "outputs": [
    {
     "data": {
      "text/html": [
       "<div>\n",
       "<style scoped>\n",
       "    .dataframe tbody tr th:only-of-type {\n",
       "        vertical-align: middle;\n",
       "    }\n",
       "\n",
       "    .dataframe tbody tr th {\n",
       "        vertical-align: top;\n",
       "    }\n",
       "\n",
       "    .dataframe thead th {\n",
       "        text-align: right;\n",
       "    }\n",
       "</style>\n",
       "<table border=\"1\" class=\"dataframe\">\n",
       "  <thead>\n",
       "    <tr style=\"text-align: right;\">\n",
       "      <th></th>\n",
       "      <th>Name</th>\n",
       "      <th>Height</th>\n",
       "    </tr>\n",
       "  </thead>\n",
       "  <tbody>\n",
       "    <tr>\n",
       "      <th>11614</th>\n",
       "      <td>T. Holý</td>\n",
       "      <td>6.75</td>\n",
       "    </tr>\n",
       "    <tr>\n",
       "      <th>17927</th>\n",
       "      <td>D. Hodzic</td>\n",
       "      <td>6.75</td>\n",
       "    </tr>\n",
       "  </tbody>\n",
       "</table>\n",
       "</div>"
      ],
      "text/plain": [
       "            Name  Height\n",
       "11614    T. Holý    6.75\n",
       "17927  D. Hodzic    6.75"
      ]
     },
     "execution_count": 19,
     "metadata": {},
     "output_type": "execute_result"
    }
   ],
   "source": [
    "df[['Name','Height']][df['Height']==df['Height'].max()]"
   ]
  },
  {
   "cell_type": "markdown",
   "id": "66756bd5",
   "metadata": {},
   "source": [
    "**What is the smallest weight? and name of the player with that weight? and for which club plays?**"
   ]
  },
  {
   "cell_type": "code",
   "execution_count": 20,
   "id": "7f22b3ad",
   "metadata": {},
   "outputs": [
    {
     "data": {
      "text/html": [
       "<div>\n",
       "<style scoped>\n",
       "    .dataframe tbody tr th:only-of-type {\n",
       "        vertical-align: middle;\n",
       "    }\n",
       "\n",
       "    .dataframe tbody tr th {\n",
       "        vertical-align: top;\n",
       "    }\n",
       "\n",
       "    .dataframe thead th {\n",
       "        text-align: right;\n",
       "    }\n",
       "</style>\n",
       "<table border=\"1\" class=\"dataframe\">\n",
       "  <thead>\n",
       "    <tr style=\"text-align: right;\">\n",
       "      <th></th>\n",
       "      <th>Name</th>\n",
       "      <th>Club</th>\n",
       "      <th>Weight</th>\n",
       "    </tr>\n",
       "  </thead>\n",
       "  <tbody>\n",
       "    <tr>\n",
       "      <th>13338</th>\n",
       "      <td>B. Al Mutairi</td>\n",
       "      <td>Al Batin</td>\n",
       "      <td>110.0</td>\n",
       "    </tr>\n",
       "    <tr>\n",
       "      <th>17157</th>\n",
       "      <td>K. Yamaguchi</td>\n",
       "      <td>Shonan Bellmare</td>\n",
       "      <td>110.0</td>\n",
       "    </tr>\n",
       "  </tbody>\n",
       "</table>\n",
       "</div>"
      ],
      "text/plain": [
       "                Name             Club  Weight\n",
       "13338  B. Al Mutairi         Al Batin   110.0\n",
       "17157   K. Yamaguchi  Shonan Bellmare   110.0"
      ]
     },
     "execution_count": 20,
     "metadata": {},
     "output_type": "execute_result"
    }
   ],
   "source": [
    "df[['Name','Club','Weight']][df['Weight']==df['Weight'].min()]"
   ]
  },
  {
   "cell_type": "markdown",
   "id": "973b87bd",
   "metadata": {},
   "source": [
    "**What is the position of Cristiano Ronaldo?**"
   ]
  },
  {
   "cell_type": "code",
   "execution_count": 22,
   "id": "2aafbd89",
   "metadata": {},
   "outputs": [
    {
     "data": {
      "text/html": [
       "<div>\n",
       "<style scoped>\n",
       "    .dataframe tbody tr th:only-of-type {\n",
       "        vertical-align: middle;\n",
       "    }\n",
       "\n",
       "    .dataframe tbody tr th {\n",
       "        vertical-align: top;\n",
       "    }\n",
       "\n",
       "    .dataframe thead th {\n",
       "        text-align: right;\n",
       "    }\n",
       "</style>\n",
       "<table border=\"1\" class=\"dataframe\">\n",
       "  <thead>\n",
       "    <tr style=\"text-align: right;\">\n",
       "      <th></th>\n",
       "      <th>Name</th>\n",
       "      <th>Position</th>\n",
       "    </tr>\n",
       "  </thead>\n",
       "  <tbody>\n",
       "    <tr>\n",
       "      <th>1</th>\n",
       "      <td>Cristiano Ronaldo</td>\n",
       "      <td>ST</td>\n",
       "    </tr>\n",
       "  </tbody>\n",
       "</table>\n",
       "</div>"
      ],
      "text/plain": [
       "                Name Position\n",
       "1  Cristiano Ronaldo       ST"
      ]
     },
     "execution_count": 22,
     "metadata": {},
     "output_type": "execute_result"
    }
   ],
   "source": [
    "df[['Name','Position']][df['Name']=='Cristiano Ronaldo']"
   ]
  },
  {
   "cell_type": "markdown",
   "id": "a7c61aae",
   "metadata": {},
   "source": [
    "**What was the average (mean) Value of all players per year(Joined column) ?**"
   ]
  },
  {
   "cell_type": "code",
   "execution_count": 23,
   "id": "67bef1a2",
   "metadata": {},
   "outputs": [
    {
     "data": {
      "text/html": [
       "<div>\n",
       "<style scoped>\n",
       "    .dataframe tbody tr th:only-of-type {\n",
       "        vertical-align: middle;\n",
       "    }\n",
       "\n",
       "    .dataframe tbody tr th {\n",
       "        vertical-align: top;\n",
       "    }\n",
       "\n",
       "    .dataframe thead th {\n",
       "        text-align: right;\n",
       "    }\n",
       "</style>\n",
       "<table border=\"1\" class=\"dataframe\">\n",
       "  <thead>\n",
       "    <tr style=\"text-align: right;\">\n",
       "      <th></th>\n",
       "      <th>Value</th>\n",
       "    </tr>\n",
       "    <tr>\n",
       "      <th>Joined</th>\n",
       "      <th></th>\n",
       "    </tr>\n",
       "  </thead>\n",
       "  <tbody>\n",
       "    <tr>\n",
       "      <th>1991</th>\n",
       "      <td>160.000000</td>\n",
       "    </tr>\n",
       "    <tr>\n",
       "      <th>1998</th>\n",
       "      <td>106.666667</td>\n",
       "    </tr>\n",
       "    <tr>\n",
       "      <th>1999</th>\n",
       "      <td>40.000000</td>\n",
       "    </tr>\n",
       "    <tr>\n",
       "      <th>2000</th>\n",
       "      <td>110.000000</td>\n",
       "    </tr>\n",
       "    <tr>\n",
       "      <th>2001</th>\n",
       "      <td>237.500000</td>\n",
       "    </tr>\n",
       "    <tr>\n",
       "      <th>2002</th>\n",
       "      <td>2351.250000</td>\n",
       "    </tr>\n",
       "    <tr>\n",
       "      <th>2003</th>\n",
       "      <td>1148.076923</td>\n",
       "    </tr>\n",
       "    <tr>\n",
       "      <th>2004</th>\n",
       "      <td>10415.833333</td>\n",
       "    </tr>\n",
       "    <tr>\n",
       "      <th>2005</th>\n",
       "      <td>5544.705882</td>\n",
       "    </tr>\n",
       "    <tr>\n",
       "      <th>2006</th>\n",
       "      <td>1208.055556</td>\n",
       "    </tr>\n",
       "    <tr>\n",
       "      <th>2007</th>\n",
       "      <td>4730.789474</td>\n",
       "    </tr>\n",
       "    <tr>\n",
       "      <th>2008</th>\n",
       "      <td>5377.924528</td>\n",
       "    </tr>\n",
       "    <tr>\n",
       "      <th>2009</th>\n",
       "      <td>3468.269231</td>\n",
       "    </tr>\n",
       "    <tr>\n",
       "      <th>2010</th>\n",
       "      <td>5240.839695</td>\n",
       "    </tr>\n",
       "    <tr>\n",
       "      <th>2011</th>\n",
       "      <td>4868.241206</td>\n",
       "    </tr>\n",
       "    <tr>\n",
       "      <th>2012</th>\n",
       "      <td>3840.988201</td>\n",
       "    </tr>\n",
       "    <tr>\n",
       "      <th>2013</th>\n",
       "      <td>4181.320961</td>\n",
       "    </tr>\n",
       "    <tr>\n",
       "      <th>2014</th>\n",
       "      <td>3549.077017</td>\n",
       "    </tr>\n",
       "    <tr>\n",
       "      <th>2015</th>\n",
       "      <td>3335.755988</td>\n",
       "    </tr>\n",
       "    <tr>\n",
       "      <th>2016</th>\n",
       "      <td>2511.245432</td>\n",
       "    </tr>\n",
       "    <tr>\n",
       "      <th>2017</th>\n",
       "      <td>2125.398374</td>\n",
       "    </tr>\n",
       "    <tr>\n",
       "      <th>2018</th>\n",
       "      <td>1913.759519</td>\n",
       "    </tr>\n",
       "  </tbody>\n",
       "</table>\n",
       "</div>"
      ],
      "text/plain": [
       "               Value\n",
       "Joined              \n",
       "1991      160.000000\n",
       "1998      106.666667\n",
       "1999       40.000000\n",
       "2000      110.000000\n",
       "2001      237.500000\n",
       "2002     2351.250000\n",
       "2003     1148.076923\n",
       "2004    10415.833333\n",
       "2005     5544.705882\n",
       "2006     1208.055556\n",
       "2007     4730.789474\n",
       "2008     5377.924528\n",
       "2009     3468.269231\n",
       "2010     5240.839695\n",
       "2011     4868.241206\n",
       "2012     3840.988201\n",
       "2013     4181.320961\n",
       "2014     3549.077017\n",
       "2015     3335.755988\n",
       "2016     2511.245432\n",
       "2017     2125.398374\n",
       "2018     1913.759519"
      ]
     },
     "execution_count": 23,
     "metadata": {},
     "output_type": "execute_result"
    }
   ],
   "source": [
    "df.groupby('Joined')[['Value']].mean()"
   ]
  },
  {
   "cell_type": "markdown",
   "id": "cba09748",
   "metadata": {},
   "source": [
    "**get Number of players for each club**"
   ]
  },
  {
   "cell_type": "code",
   "execution_count": 26,
   "id": "bfd6f2db",
   "metadata": {},
   "outputs": [
    {
     "data": {
      "text/html": [
       "<div>\n",
       "<style scoped>\n",
       "    .dataframe tbody tr th:only-of-type {\n",
       "        vertical-align: middle;\n",
       "    }\n",
       "\n",
       "    .dataframe tbody tr th {\n",
       "        vertical-align: top;\n",
       "    }\n",
       "\n",
       "    .dataframe thead th {\n",
       "        text-align: right;\n",
       "    }\n",
       "</style>\n",
       "<table border=\"1\" class=\"dataframe\">\n",
       "  <thead>\n",
       "    <tr style=\"text-align: right;\">\n",
       "      <th></th>\n",
       "      <th>ID</th>\n",
       "    </tr>\n",
       "    <tr>\n",
       "      <th>Club</th>\n",
       "      <th></th>\n",
       "    </tr>\n",
       "  </thead>\n",
       "  <tbody>\n",
       "    <tr>\n",
       "      <th>Borussia Dortmund</th>\n",
       "      <td>33</td>\n",
       "    </tr>\n",
       "    <tr>\n",
       "      <th>Tottenham Hotspur</th>\n",
       "      <td>33</td>\n",
       "    </tr>\n",
       "    <tr>\n",
       "      <th>Chelsea</th>\n",
       "      <td>33</td>\n",
       "    </tr>\n",
       "    <tr>\n",
       "      <th>Valencia CF</th>\n",
       "      <td>33</td>\n",
       "    </tr>\n",
       "    <tr>\n",
       "      <th>Everton</th>\n",
       "      <td>33</td>\n",
       "    </tr>\n",
       "    <tr>\n",
       "      <th>...</th>\n",
       "      <td>...</td>\n",
       "    </tr>\n",
       "    <tr>\n",
       "      <th>Fluminense</th>\n",
       "      <td>20</td>\n",
       "    </tr>\n",
       "    <tr>\n",
       "      <th>Botafogo</th>\n",
       "      <td>20</td>\n",
       "    </tr>\n",
       "    <tr>\n",
       "      <th>Limerick FC</th>\n",
       "      <td>19</td>\n",
       "    </tr>\n",
       "    <tr>\n",
       "      <th>Sligo Rovers</th>\n",
       "      <td>19</td>\n",
       "    </tr>\n",
       "    <tr>\n",
       "      <th>Derry City</th>\n",
       "      <td>18</td>\n",
       "    </tr>\n",
       "  </tbody>\n",
       "</table>\n",
       "<p>651 rows × 1 columns</p>\n",
       "</div>"
      ],
      "text/plain": [
       "                   ID\n",
       "Club                 \n",
       "Borussia Dortmund  33\n",
       "Tottenham Hotspur  33\n",
       "Chelsea            33\n",
       "Valencia CF        33\n",
       "Everton            33\n",
       "...                ..\n",
       "Fluminense         20\n",
       "Botafogo           20\n",
       "Limerick FC        19\n",
       "Sligo Rovers       19\n",
       "Derry City         18\n",
       "\n",
       "[651 rows x 1 columns]"
      ]
     },
     "execution_count": 26,
     "metadata": {},
     "output_type": "execute_result"
    }
   ],
   "source": [
    "df.groupby('Club')[['ID']].count().sort_values(by='ID',ascending=False)"
   ]
  },
  {
   "cell_type": "markdown",
   "id": "a316bf69",
   "metadata": {},
   "source": [
    "**How many unique Clubs are there?**"
   ]
  },
  {
   "cell_type": "code",
   "execution_count": 27,
   "id": "18030765",
   "metadata": {},
   "outputs": [
    {
     "data": {
      "text/plain": [
       "651"
      ]
     },
     "execution_count": 27,
     "metadata": {},
     "output_type": "execute_result"
    }
   ],
   "source": [
    "df['Club'].nunique()"
   ]
  },
  {
   "cell_type": "markdown",
   "id": "f3ef1f5d",
   "metadata": {},
   "source": [
    "**What are the top 5 most common positions?**"
   ]
  },
  {
   "cell_type": "code",
   "execution_count": 30,
   "id": "9b51f8e2",
   "metadata": {},
   "outputs": [
    {
     "data": {
      "text/plain": [
       "Position\n",
       "ST    2154\n",
       "GK    2027\n",
       "CB    1779\n",
       "CM    1395\n",
       "LB    1372\n",
       "Name: count, dtype: int64"
      ]
     },
     "execution_count": 30,
     "metadata": {},
     "output_type": "execute_result"
    }
   ],
   "source": [
    "df['Position'].value_counts().head(5)"
   ]
  },
  {
   "cell_type": "code",
   "execution_count": 29,
   "id": "112b0390",
   "metadata": {},
   "outputs": [
    {
     "data": {
      "text/html": [
       "<div>\n",
       "<style scoped>\n",
       "    .dataframe tbody tr th:only-of-type {\n",
       "        vertical-align: middle;\n",
       "    }\n",
       "\n",
       "    .dataframe tbody tr th {\n",
       "        vertical-align: top;\n",
       "    }\n",
       "\n",
       "    .dataframe thead th {\n",
       "        text-align: right;\n",
       "    }\n",
       "</style>\n",
       "<table border=\"1\" class=\"dataframe\">\n",
       "  <thead>\n",
       "    <tr style=\"text-align: right;\">\n",
       "      <th></th>\n",
       "      <th>ID</th>\n",
       "    </tr>\n",
       "    <tr>\n",
       "      <th>Position</th>\n",
       "      <th></th>\n",
       "    </tr>\n",
       "  </thead>\n",
       "  <tbody>\n",
       "    <tr>\n",
       "      <th>ST</th>\n",
       "      <td>2154</td>\n",
       "    </tr>\n",
       "    <tr>\n",
       "      <th>GK</th>\n",
       "      <td>2027</td>\n",
       "    </tr>\n",
       "    <tr>\n",
       "      <th>CB</th>\n",
       "      <td>1779</td>\n",
       "    </tr>\n",
       "    <tr>\n",
       "      <th>CM</th>\n",
       "      <td>1395</td>\n",
       "    </tr>\n",
       "    <tr>\n",
       "      <th>LB</th>\n",
       "      <td>1372</td>\n",
       "    </tr>\n",
       "  </tbody>\n",
       "</table>\n",
       "</div>"
      ],
      "text/plain": [
       "            ID\n",
       "Position      \n",
       "ST        2154\n",
       "GK        2027\n",
       "CB        1779\n",
       "CM        1395\n",
       "LB        1372"
      ]
     },
     "execution_count": 29,
     "metadata": {},
     "output_type": "execute_result"
    }
   ],
   "source": [
    "df.groupby('Position')[['ID']].count().sort_values(by='ID',ascending=False).head(5)"
   ]
  },
  {
   "cell_type": "markdown",
   "id": "dd436707",
   "metadata": {},
   "source": [
    "**What are the top 5 most common nationality?**"
   ]
  },
  {
   "cell_type": "code",
   "execution_count": 31,
   "id": "b2e42ab1",
   "metadata": {},
   "outputs": [
    {
     "data": {
      "text/plain": [
       "Nationality\n",
       "England      1662\n",
       "Germany      1198\n",
       "Spain        1072\n",
       "Argentina     937\n",
       "France        914\n",
       "Name: count, dtype: int64"
      ]
     },
     "execution_count": 31,
     "metadata": {},
     "output_type": "execute_result"
    }
   ],
   "source": [
    "df['Nationality'].value_counts().head(5)"
   ]
  },
  {
   "cell_type": "markdown",
   "id": "139f9802",
   "metadata": {},
   "source": [
    "**What are the names of players has Egyptian Nationality?**"
   ]
  },
  {
   "cell_type": "code",
   "execution_count": 36,
   "id": "16bc6538",
   "metadata": {},
   "outputs": [
    {
     "data": {
      "text/plain": [
       "26             M. Salah\n",
       "752           Trezeguet\n",
       "959           M. Elneny\n",
       "1517          A. Hegazi\n",
       "2241          A. Hassan\n",
       "2259            Kahraba\n",
       "2334           R. Sobhi\n",
       "3310      A. Elmohamady\n",
       "3616           A. Warda\n",
       "3929          A. Ghazal\n",
       "4044           A. Tarek\n",
       "4217          Shikabala\n",
       "4504         A. El Said\n",
       "5614           A. Fathi\n",
       "5913           M. Hamdy\n",
       "5944           S. Morsy\n",
       "6021          A. Ashraf\n",
       "6407          S. Ekramy\n",
       "6717            A. Gabr\n",
       "6804           O. Gaber\n",
       "7102     M. Abdul Shafy\n",
       "8325          A. El-Abd\n",
       "8441           T. Hamed\n",
       "9165      M. El-Shenawy\n",
       "9228        H. El Sayed\n",
       "9297            M. Awad\n",
       "9514        A. Jakobsen\n",
       "9665           K. Hafez\n",
       "9911          M. Mohsen\n",
       "10672           M. Atwa\n",
       "13891        A. Mostafa\n",
       "Name: Name, dtype: object"
      ]
     },
     "execution_count": 36,
     "metadata": {},
     "output_type": "execute_result"
    }
   ],
   "source": [
    "df['Name'][df['Nationality']=='Egypt']"
   ]
  },
  {
   "cell_type": "markdown",
   "id": "992466bd",
   "metadata": {},
   "source": [
    "**How many players joined in 2018 with skill moves=2?** "
   ]
  },
  {
   "cell_type": "code",
   "execution_count": 48,
   "id": "037b43c1",
   "metadata": {},
   "outputs": [
    {
     "data": {
      "text/plain": [
       "3295"
      ]
     },
     "execution_count": 48,
     "metadata": {},
     "output_type": "execute_result"
    }
   ],
   "source": [
    "df['ID'][(df['Joined']==2018) & (df['Skill Moves']==2)].count()"
   ]
  },
  {
   "cell_type": "markdown",
   "id": "8d1b405f",
   "metadata": {},
   "source": [
    "**How many players whom name starts with letter  'M'? (This is pretty tricky)**"
   ]
  },
  {
   "cell_type": "code",
   "execution_count": 57,
   "id": "2ea77163",
   "metadata": {},
   "outputs": [
    {
     "name": "stdout",
     "output_type": "stream",
     "text": [
      "1975\n"
     ]
    }
   ],
   "source": [
    "M_list=[]\n",
    "for c in df['Name']:\n",
    "    if c.startswith('M'):\n",
    "        M_list.append(c)\n",
    "print(len(M_list))"
   ]
  },
  {
   "cell_type": "markdown",
   "id": "05bb6486",
   "metadata": {},
   "source": [
    "**Bonus: Is there a correlation between International Reputation and Wage?**"
   ]
  },
  {
   "cell_type": "code",
   "execution_count": 60,
   "id": "ef15bc0e",
   "metadata": {},
   "outputs": [
    {
     "data": {
      "text/html": [
       "<div>\n",
       "<style scoped>\n",
       "    .dataframe tbody tr th:only-of-type {\n",
       "        vertical-align: middle;\n",
       "    }\n",
       "\n",
       "    .dataframe tbody tr th {\n",
       "        vertical-align: top;\n",
       "    }\n",
       "\n",
       "    .dataframe thead th {\n",
       "        text-align: right;\n",
       "    }\n",
       "</style>\n",
       "<table border=\"1\" class=\"dataframe\">\n",
       "  <thead>\n",
       "    <tr style=\"text-align: right;\">\n",
       "      <th></th>\n",
       "      <th>International Reputation</th>\n",
       "      <th>Wage</th>\n",
       "    </tr>\n",
       "  </thead>\n",
       "  <tbody>\n",
       "    <tr>\n",
       "      <th>International Reputation</th>\n",
       "      <td>1.000000</td>\n",
       "      <td>0.668635</td>\n",
       "    </tr>\n",
       "    <tr>\n",
       "      <th>Wage</th>\n",
       "      <td>0.668635</td>\n",
       "      <td>1.000000</td>\n",
       "    </tr>\n",
       "  </tbody>\n",
       "</table>\n",
       "</div>"
      ],
      "text/plain": [
       "                          International Reputation      Wage\n",
       "International Reputation                  1.000000  0.668635\n",
       "Wage                                      0.668635  1.000000"
      ]
     },
     "execution_count": 60,
     "metadata": {},
     "output_type": "execute_result"
    }
   ],
   "source": [
    "df[['International Reputation','Wage']].corr()"
   ]
  },
  {
   "cell_type": "markdown",
   "id": "fc0eb0fb",
   "metadata": {},
   "source": [
    "---"
   ]
  }
 ],
 "metadata": {
  "kernelspec": {
   "display_name": "Python 3 (ipykernel)",
   "language": "python",
   "name": "python3"
  },
  "language_info": {
   "codemirror_mode": {
    "name": "ipython",
    "version": 3
   },
   "file_extension": ".py",
   "mimetype": "text/x-python",
   "name": "python",
   "nbconvert_exporter": "python",
   "pygments_lexer": "ipython3",
   "version": "3.12.4"
  },
  "varInspector": {
   "cols": {
    "lenName": 16,
    "lenType": 16,
    "lenVar": 40
   },
   "kernels_config": {
    "python": {
     "delete_cmd_postfix": "",
     "delete_cmd_prefix": "del ",
     "library": "var_list.py",
     "varRefreshCmd": "print(var_dic_list())"
    },
    "r": {
     "delete_cmd_postfix": ") ",
     "delete_cmd_prefix": "rm(",
     "library": "var_list.r",
     "varRefreshCmd": "cat(var_dic_list()) "
    }
   },
   "types_to_exclude": [
    "module",
    "function",
    "builtin_function_or_method",
    "instance",
    "_Feature"
   ],
   "window_display": false
  }
 },
 "nbformat": 4,
 "nbformat_minor": 5
}
